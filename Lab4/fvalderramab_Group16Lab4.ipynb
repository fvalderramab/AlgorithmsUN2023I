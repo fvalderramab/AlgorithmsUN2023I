{
  "nbformat": 4,
  "nbformat_minor": 0,
  "metadata": {
    "colab": {
      "provenance": [],
      "include_colab_link": true
    },
    "kernelspec": {
      "name": "python3",
      "display_name": "Python 3"
    },
    "language_info": {
      "name": "python"
    }
  },
  "cells": [
    {
      "cell_type": "markdown",
      "metadata": {
        "id": "view-in-github",
        "colab_type": "text"
      },
      "source": [
        "<a href=\"https://colab.research.google.com/github/fvalderramab/AlgorithmsUN2023I/blob/main/Lab4/fvalderramab_Group16Lab4.ipynb\" target=\"_parent\"><img src=\"https://colab.research.google.com/assets/colab-badge.svg\" alt=\"Open In Colab\"/></a>"
      ]
    },
    {
      "cell_type": "markdown",
      "metadata": {
        "id": "N1ok_-56OjB1"
      },
      "source": [
        "# I Solving the Sum of Two Digits Programming Challenge"
      ]
    },
    {
      "cell_type": "markdown",
      "metadata": {
        "id": "MMY7kmDSO0KM"
      },
      "source": [
        "## C++"
      ]
    },
    {
      "cell_type": "code",
      "metadata": {
        "colab": {
          "base_uri": "https://localhost:8080/"
        },
        "id": "2pGGf9BkPNIk",
        "outputId": "292a8e36-f422-4cfd-cb33-8885b92642cc"
      },
      "source": [
        "%%writefile APlusB.cpp\n",
        "#include <iostream>\n",
        "\n",
        "int sum_of_two_digits(int first_digit, int second_digit) {\n",
        "    return first_digit + second_digit;\n",
        "}\n",
        "\n",
        "int main() {\n",
        "    int a = 0;\n",
        "    int b = 0;\n",
        "    std::cin >> a;\n",
        "    std::cin >> b;\n",
        "    std::cout << sum_of_two_digits(a, b);\n",
        "    return 0;\n",
        "}"
      ],
      "execution_count": null,
      "outputs": [
        {
          "output_type": "stream",
          "name": "stdout",
          "text": [
            "Overwriting APlusB.cpp\n"
          ]
        }
      ]
    },
    {
      "cell_type": "code",
      "metadata": {
        "colab": {
          "base_uri": "https://localhost:8080/"
        },
        "id": "0G3ZKOYAPXSU",
        "outputId": "549168b6-4c9c-4407-d3f9-9b9a7967589a"
      },
      "source": [
        "!g++ APlusB.cpp -o APlusB\n",
        "!./APlusB"
      ],
      "execution_count": null,
      "outputs": [
        {
          "output_type": "stream",
          "name": "stdout",
          "text": [
            "^C\n"
          ]
        }
      ]
    },
    {
      "cell_type": "markdown",
      "metadata": {
        "id": "iNkG2HqfTl9c"
      },
      "source": [
        "### Test input output files"
      ]
    },
    {
      "cell_type": "code",
      "metadata": {
        "colab": {
          "base_uri": "https://localhost:8080/"
        },
        "id": "aTzU2efzMxly",
        "outputId": "0f00f967-3d67-40ab-f606-80ac32be641a"
      },
      "source": [
        "%%writefile input1.txt\n",
        "2 7"
      ],
      "execution_count": null,
      "outputs": [
        {
          "output_type": "stream",
          "name": "stdout",
          "text": [
            "Writing input1.txt\n"
          ]
        }
      ]
    },
    {
      "cell_type": "code",
      "metadata": {
        "colab": {
          "base_uri": "https://localhost:8080/"
        },
        "id": "zBJ0Gc0NQRet",
        "outputId": "df3ec5a5-ca4e-4a98-80d4-f74af115db67"
      },
      "source": [
        "%%writefile output1.txt\n",
        "9"
      ],
      "execution_count": null,
      "outputs": [
        {
          "output_type": "stream",
          "name": "stdout",
          "text": [
            "Writing output1.txt\n"
          ]
        }
      ]
    },
    {
      "cell_type": "code",
      "metadata": {
        "colab": {
          "base_uri": "https://localhost:8080/"
        },
        "id": "IjEcIx63PJAN",
        "outputId": "969d7497-31d8-40a2-da43-be4a843d4523"
      },
      "source": [
        "%%writefile input2.txt\n",
        "-5 -2"
      ],
      "execution_count": null,
      "outputs": [
        {
          "output_type": "stream",
          "name": "stdout",
          "text": [
            "Writing input2.txt\n"
          ]
        }
      ]
    },
    {
      "cell_type": "code",
      "metadata": {
        "colab": {
          "base_uri": "https://localhost:8080/"
        },
        "id": "Up9gOrxURTmd",
        "outputId": "fedf14ca-e50d-44b3-b0a0-96b67d44ad4b"
      },
      "source": [
        "%%writefile output2.txt\n",
        "-7"
      ],
      "execution_count": null,
      "outputs": [
        {
          "output_type": "stream",
          "name": "stdout",
          "text": [
            "Writing output2.txt\n"
          ]
        }
      ]
    },
    {
      "cell_type": "code",
      "metadata": {
        "colab": {
          "base_uri": "https://localhost:8080/"
        },
        "id": "PST6G-s-Pwgc",
        "outputId": "0b57687b-c16f-487b-dd0a-739a5905aad1"
      },
      "source": [
        "!./APlusB < input1.txt"
      ],
      "execution_count": null,
      "outputs": [
        {
          "output_type": "stream",
          "name": "stdout",
          "text": [
            "9"
          ]
        }
      ]
    },
    {
      "cell_type": "code",
      "metadata": {
        "colab": {
          "base_uri": "https://localhost:8080/"
        },
        "id": "cKxZOjSlRfIN",
        "outputId": "d85bf992-e7b9-4d70-efe3-6abc56656615"
      },
      "source": [
        "!./APlusB < input2.txt"
      ],
      "execution_count": null,
      "outputs": [
        {
          "output_type": "stream",
          "name": "stdout",
          "text": [
            "-7"
          ]
        }
      ]
    },
    {
      "cell_type": "markdown",
      "metadata": {
        "id": "Qw2TQWCCUwqk"
      },
      "source": [
        "### Comparing files with grep\n",
        "\n",
        "https://askubuntu.com/questions/546796/comparing-two-text-files"
      ]
    },
    {
      "cell_type": "code",
      "metadata": {
        "id": "WVIaAmMKU4QM"
      },
      "source": [
        "!grep -xvFf output1.txt output1.txt "
      ],
      "execution_count": null,
      "outputs": []
    },
    {
      "cell_type": "code",
      "metadata": {
        "colab": {
          "base_uri": "https://localhost:8080/"
        },
        "id": "MQU8gPPjQuYO",
        "outputId": "5214f304-a12a-4750-8c55-df54b5a1e3d2"
      },
      "source": [
        "!grep -xvFf output1.txt output2.txt "
      ],
      "execution_count": null,
      "outputs": [
        {
          "output_type": "stream",
          "name": "stdout",
          "text": [
            "-7\n"
          ]
        }
      ]
    },
    {
      "cell_type": "code",
      "metadata": {
        "colab": {
          "base_uri": "https://localhost:8080/"
        },
        "id": "jYL9OuYBTD_l",
        "outputId": "b6653813-cf3d-47ec-fa1d-a5f82bf036b1"
      },
      "source": [
        "!grep -xvFf output2.txt output1.txt "
      ],
      "execution_count": null,
      "outputs": [
        {
          "output_type": "stream",
          "name": "stdout",
          "text": [
            "9\n"
          ]
        }
      ]
    },
    {
      "cell_type": "code",
      "metadata": {
        "id": "Jlja0Xm4TX9M"
      },
      "source": [
        "!./APlusB <input1.txt> ctest1.txt\n",
        "!grep -xvFf output1.txt ctest1.txt"
      ],
      "execution_count": null,
      "outputs": []
    },
    {
      "cell_type": "code",
      "metadata": {
        "id": "g9OIUZA_QLCQ"
      },
      "source": [
        "!./APlusB <input2.txt> ctest2.txt\n",
        "!grep -xvFf output2.txt ctest2.txt"
      ],
      "execution_count": null,
      "outputs": []
    },
    {
      "cell_type": "markdown",
      "metadata": {
        "id": "3BgOaDjUVJk6"
      },
      "source": [
        "## Python"
      ]
    },
    {
      "cell_type": "code",
      "metadata": {
        "colab": {
          "base_uri": "https://localhost:8080/"
        },
        "id": "DBvl-T0CTN_8",
        "outputId": "66ac045f-ab9d-4774-decc-2a8bae3e38b1"
      },
      "source": [
        "%%writefile sum.py\n",
        "# python3\n",
        "\n",
        "def sum_of_two_digits(first_digit, second_digit):\n",
        "    return first_digit + second_digit\n",
        "\n",
        "if __name__ == '__main__':\n",
        "    a, b = map(int, input().split())\n",
        "    print(sum_of_two_digits(a, b))"
      ],
      "execution_count": null,
      "outputs": [
        {
          "output_type": "stream",
          "name": "stdout",
          "text": [
            "Writing sum.py\n"
          ]
        }
      ]
    },
    {
      "cell_type": "code",
      "metadata": {
        "colab": {
          "base_uri": "https://localhost:8080/"
        },
        "id": "QKoKM11_WGyF",
        "outputId": "ede77ac2-df34-44aa-c822-503263f411ec"
      },
      "source": [
        "!python sum.py"
      ],
      "execution_count": null,
      "outputs": [
        {
          "output_type": "stream",
          "name": "stdout",
          "text": [
            "Traceback (most recent call last):\n",
            "  File \"/content/sum.py\", line 7, in <module>\n",
            "    a, b = map(int, input().split())\n",
            "KeyboardInterrupt\n",
            "^C\n"
          ]
        }
      ]
    },
    {
      "cell_type": "code",
      "metadata": {
        "id": "cocFbPRTWrqt"
      },
      "source": [
        "!python sum.py <input1.txt> ptest1.txt\n",
        "!grep -xvFf output1.txt ptest1.txt"
      ],
      "execution_count": null,
      "outputs": []
    },
    {
      "cell_type": "code",
      "metadata": {
        "id": "MorKTa-XXASN"
      },
      "source": [
        "!python sum.py <input2.txt> ptest2.txt\n",
        "!grep -xvFf output2.txt ptest2.txt"
      ],
      "execution_count": null,
      "outputs": []
    },
    {
      "cell_type": "markdown",
      "metadata": {
        "id": "uvP-mOubW_5F"
      },
      "source": [
        "# II Solving The Maximum Pairwise Product Programming Challenge in C++"
      ]
    },
    {
      "cell_type": "markdown",
      "metadata": {
        "id": "C12yoFR6Xonl"
      },
      "source": [
        "## C++"
      ]
    },
    {
      "cell_type": "code",
      "metadata": {
        "colab": {
          "base_uri": "https://localhost:8080/"
        },
        "id": "YL4qJX3tXxdd",
        "outputId": "c0d324b3-102e-44a5-e992-7547e3cbb524"
      },
      "source": [
        "%%writefile max_pairwise_product.cpp\n",
        "#include <iostream>\n",
        "#include <vector>\n",
        "#include <algorithm>\n",
        "\n",
        "int MaxPairwiseProduct(const std::vector<int>& numbers) {\n",
        "    int max_product = 0;\n",
        "    int n = numbers.size();\n",
        "\n",
        "    for (int first = 0; first < n; ++first) {\n",
        "        for (int second = first + 1; second < n; ++second) {\n",
        "            max_product = std::max(max_product,\n",
        "                numbers[first] * numbers[second]);\n",
        "        }\n",
        "    }\n",
        "\n",
        "    return max_product;\n",
        "}\n",
        "\n",
        "int main() {\n",
        "    int n;\n",
        "    std::cin >> n;\n",
        "    std::vector<int> numbers(n);\n",
        "    for (int i = 0; i < n; ++i) {\n",
        "        std::cin >> numbers[i];\n",
        "    }\n",
        "\n",
        "    std::cout << MaxPairwiseProduct(numbers) << \"\\n\";\n",
        "    return 0;\n",
        "}\n"
      ],
      "execution_count": null,
      "outputs": [
        {
          "output_type": "stream",
          "name": "stdout",
          "text": [
            "Writing max_pairwise_product.cpp\n"
          ]
        }
      ]
    },
    {
      "cell_type": "code",
      "metadata": {
        "colab": {
          "base_uri": "https://localhost:8080/"
        },
        "id": "KGxaEjvWX__O",
        "outputId": "b57cf0fb-0e30-40c4-c41b-a074139811e8"
      },
      "source": [
        "!g++ max_pairwise_product.cpp -o max_pairwise_product\n",
        "!./max_pairwise_product"
      ],
      "execution_count": null,
      "outputs": [
        {
          "output_type": "stream",
          "name": "stdout",
          "text": [
            "^C\n"
          ]
        }
      ]
    },
    {
      "cell_type": "markdown",
      "metadata": {
        "id": "e7KhxHGNS3i0"
      },
      "source": [
        "### Test 1: Small numbers"
      ]
    },
    {
      "cell_type": "code",
      "metadata": {
        "colab": {
          "base_uri": "https://localhost:8080/"
        },
        "id": "e1mmTzBgShT-",
        "outputId": "ac41b572-b03a-4285-ec40-caea9bc6a1e8"
      },
      "source": [
        "%%writefile input1.txt\n",
        "10\n",
        "2 3 4 5 6 7 8 9 10 11"
      ],
      "execution_count": null,
      "outputs": [
        {
          "output_type": "stream",
          "name": "stdout",
          "text": [
            "Overwriting input1.txt\n"
          ]
        }
      ]
    },
    {
      "cell_type": "code",
      "metadata": {
        "colab": {
          "base_uri": "https://localhost:8080/"
        },
        "id": "vy_uI0x7TCId",
        "outputId": "dc1e3ea3-d193-43f9-845e-a49523f5fa74"
      },
      "source": [
        "!./max_pairwise_product < input1.txt"
      ],
      "execution_count": null,
      "outputs": [
        {
          "output_type": "stream",
          "name": "stdout",
          "text": [
            "110\n"
          ]
        }
      ]
    },
    {
      "cell_type": "markdown",
      "metadata": {
        "id": "IeZ3kTjpYmR9"
      },
      "source": [
        "### Test 2: largest input numbers 200000 200000 in the input"
      ]
    },
    {
      "cell_type": "code",
      "metadata": {
        "colab": {
          "base_uri": "https://localhost:8080/"
        },
        "id": "LQNlZqaqYt7U",
        "outputId": "4b955e39-f76f-43f5-ff84-13b171508630"
      },
      "source": [
        "%%writefile input2.txt\n",
        "6\n",
        "1 3 200000 9 200000 23"
      ],
      "execution_count": null,
      "outputs": [
        {
          "output_type": "stream",
          "name": "stdout",
          "text": [
            "Overwriting input2.txt\n"
          ]
        }
      ]
    },
    {
      "cell_type": "code",
      "metadata": {
        "colab": {
          "base_uri": "https://localhost:8080/"
        },
        "id": "2Wad2VZUZDxR",
        "outputId": "f68bf405-0cde-4ece-98f5-57f9f8b2f825"
      },
      "source": [
        "!./max_pairwise_product < input2.txt"
      ],
      "execution_count": null,
      "outputs": [
        {
          "output_type": "stream",
          "name": "stdout",
          "text": [
            "1345294336\n"
          ]
        }
      ]
    },
    {
      "cell_type": "markdown",
      "metadata": {
        "id": "H2SC0Qt5HCzz"
      },
      "source": [
        "Changing the variables to long long"
      ]
    },
    {
      "cell_type": "code",
      "metadata": {
        "colab": {
          "base_uri": "https://localhost:8080/"
        },
        "id": "MPcmsxiQZSfE",
        "outputId": "5fba0ebb-9bbd-4f40-af91-108032dd46e8"
      },
      "source": [
        "%%writefile max_pairwise_product_long.cpp\n",
        "#include <iostream>\n",
        "#include <vector>\n",
        "#include <algorithm>\n",
        "\n",
        "long long MaxPairwiseProduct(const std::vector<int>& numbers) {\n",
        "    long long max_product = 0LL;\n",
        "\t  long long aux_product = 0LL;\n",
        "    int n = numbers.size();\n",
        "\n",
        "    for (int first = 0; first < n; ++first) {\n",
        "        for (int second = first + 1; second < n; ++second) {\n",
        "\t\t\t       aux_product =  (long long) numbers[first] * numbers[second];\n",
        "            if ( max_product < aux_product)  {\n",
        "\t\t\t\t        max_product = aux_product;\n",
        "             }\n",
        "        }\n",
        "    }\n",
        "\n",
        "    return max_product;\n",
        "}\n",
        "\n",
        "int main() {\n",
        "    int n;\n",
        "    std::cin >> n;\n",
        "    std::vector<int> numbers(n);\n",
        "    for (int i = 0; i < n; ++i) {\n",
        "        std::cin >> numbers[i];\n",
        "    }\n",
        "\n",
        "    std::cout << MaxPairwiseProduct(numbers) << \"\\n\";\n",
        "    return 0;\n",
        "}\n"
      ],
      "execution_count": null,
      "outputs": [
        {
          "output_type": "stream",
          "name": "stdout",
          "text": [
            "Writing max_pairwise_product_long.cpp\n"
          ]
        }
      ]
    },
    {
      "cell_type": "code",
      "metadata": {
        "colab": {
          "base_uri": "https://localhost:8080/"
        },
        "id": "I5pCeOG1Zm7s",
        "outputId": "cc9cfd27-2bb7-4c46-aaa0-f9773899feff"
      },
      "source": [
        "!g++ max_pairwise_product_long.cpp -o max_pairwise_product_long\n",
        "!./max_pairwise_product_long < input1.txt\n",
        "!./max_pairwise_product_long < input2.txt"
      ],
      "execution_count": null,
      "outputs": [
        {
          "output_type": "stream",
          "name": "stdout",
          "text": [
            "110\n",
            "40000000000\n"
          ]
        }
      ]
    },
    {
      "cell_type": "markdown",
      "metadata": {
        "id": "XPVHkHxH6_7s"
      },
      "source": [
        "### Test 3  stress tests 20  times  random n in [2, 20] "
      ]
    },
    {
      "cell_type": "code",
      "source": [
        "%%writefile random_stress_test.cpp\n",
        "#include <stdio.h>\n",
        "#include <stdlib.h>\n",
        "#include <iostream>\n",
        "#include <fstream>\n",
        "#include <cstdlib>\n",
        "\n",
        "using namespace std;\n",
        "\n",
        "int main() {\n",
        "    ofstream MyFile(\"input3.txt\");\n",
        "    int n = 20;\n",
        "    srand(time_t(0));\n",
        "    MyFile << 20 << endl;\n",
        "    // Generate n random numbers\n",
        "    for (int i = 0; i < n; i++) {\n",
        "        int num = rand() % 19;\n",
        "        MyFile << num << \" \" ;\n",
        "    }\n",
        "    MyFile.close();\n",
        "    return 0;\n",
        "}"
      ],
      "metadata": {
        "colab": {
          "base_uri": "https://localhost:8080/"
        },
        "id": "7vAALyPt3lAy",
        "outputId": "e43c8e37-f5df-4b30-e3fe-6108679a2290"
      },
      "execution_count": null,
      "outputs": [
        {
          "output_type": "stream",
          "name": "stdout",
          "text": [
            "Writing random_stress_test.cpp\n"
          ]
        }
      ]
    },
    {
      "cell_type": "code",
      "source": [
        "!g++ random_stress_test.cpp -o random_stress_test\n",
        "!./random_stress_test"
      ],
      "metadata": {
        "id": "mw10J2AL3ty9"
      },
      "execution_count": null,
      "outputs": []
    },
    {
      "cell_type": "code",
      "source": [
        "file1 = open(\"input3.txt\", \"r\")\n",
        "file1.readlines()"
      ],
      "metadata": {
        "colab": {
          "base_uri": "https://localhost:8080/"
        },
        "id": "22Z0fZraVFI4",
        "outputId": "10f50cc9-29cb-4233-b35d-c08a0a3e1fa9"
      },
      "execution_count": null,
      "outputs": [
        {
          "output_type": "execute_result",
          "data": {
            "text/plain": [
              "['20\\n', '2 15 3 3 10 8 10 11 2 7 1 9 1 10 1 10 7 17 5 9 ']"
            ]
          },
          "metadata": {},
          "execution_count": 28
        }
      ]
    },
    {
      "cell_type": "code",
      "source": [
        "!./max_pairwise_product_long < input3.txt"
      ],
      "metadata": {
        "colab": {
          "base_uri": "https://localhost:8080/"
        },
        "id": "1K6Chbn2-d4X",
        "outputId": "4d85585d-2fd2-4a9f-e575-93384781818e"
      },
      "execution_count": null,
      "outputs": [
        {
          "output_type": "stream",
          "name": "stdout",
          "text": [
            "255\n"
          ]
        }
      ]
    },
    {
      "cell_type": "markdown",
      "metadata": {
        "id": "9z9yr5QkeyJF"
      },
      "source": [
        "### Test 4  time test  measure the execution time running with the largest worst case file (200000 increasing numbers, 200000 and 200000 the end) "
      ]
    },
    {
      "cell_type": "code",
      "metadata": {
        "id": "oLiMjbAIfPlX",
        "colab": {
          "base_uri": "https://localhost:8080/"
        },
        "outputId": "b004ffc4-952a-4761-ae77-90409a86150a"
      },
      "source": [
        "%%writefile Test2Write.cpp\n",
        "\n",
        "#include <iostream>\n",
        "#include <fstream>\n",
        "#include <cstdlib>\n",
        "\n",
        "using namespace std;\n",
        "\n",
        "int main() {\n",
        "  // Create and open a text file\n",
        "  ofstream MyFile(\"input3.txt\");\n",
        "\n",
        " MyFile << 200000 <<\"\\n\";  // n \n",
        " for (int i=1; i < 200001; i++){\n",
        "     MyFile << i <<\" \";\n",
        " }\n",
        "  \n",
        "  // Close the file\n",
        "  MyFile.close();\n",
        "}"
      ],
      "execution_count": null,
      "outputs": [
        {
          "output_type": "stream",
          "name": "stdout",
          "text": [
            "Writing Test2Write.cpp\n"
          ]
        }
      ]
    },
    {
      "cell_type": "code",
      "metadata": {
        "id": "EH25TkOkZfD9"
      },
      "source": [
        "!g++ Test2Write.cpp -o Test2Write\n",
        "!./Test2Write"
      ],
      "execution_count": null,
      "outputs": []
    },
    {
      "cell_type": "markdown",
      "metadata": {
        "id": "JB6f03qO-lj9"
      },
      "source": [
        "Measure time\n",
        "\n",
        "https://askubuntu.com/questions/53444/how-can-i-measure-the-execution-time-of-a-terminal-process"
      ]
    },
    {
      "cell_type": "code",
      "metadata": {
        "colab": {
          "base_uri": "https://localhost:8080/"
        },
        "id": "6p2QLEr576zk",
        "outputId": "ab1c6891-9d3b-4470-a183-5ec8567941a4"
      },
      "source": [
        "!g++ max_pairwise_product_long.cpp -o max_pairwise_product_long\n",
        "!time ./max_pairwise_product_long < input3.txt"
      ],
      "execution_count": null,
      "outputs": [
        {
          "output_type": "stream",
          "name": "stdout",
          "text": [
            "^C\n"
          ]
        }
      ]
    },
    {
      "cell_type": "markdown",
      "metadata": {
        "id": "AmZeB2wYjxy5"
      },
      "source": [
        "##### Calculate  the number of instructions executed by the algorithm as a function of n, add in each line a comment with the number of instructions that are executed in that line \n",
        "\n",
        "```cpp\n",
        " int main() {                         //N inst exec by line executed  \n",
        "   \n",
        "    int n;                            //1                      \n",
        "    std::cin >> n;                    //1\n",
        "                                              \n",
        "    std::vector<int> numbers(n);      //n    init vector\n",
        "    .\n",
        "    .\n",
        " }\n",
        "\n",
        "```"
      ]
    },
    {
      "cell_type": "code",
      "metadata": {
        "colab": {
          "base_uri": "https://localhost:8080/"
        },
        "id": "djGX3FL13g9b",
        "outputId": "790e037a-4aa1-4bc4-8983-12c0c384009f"
      },
      "source": [
        "%%writefile test_init_vectors.cpp\n",
        "#include <iostream>\n",
        "#include <vector>\n",
        "#include <algorithm>\n",
        "int main() {                                                               \n",
        "    int n = 10;                                                                                                                            //1\n",
        "    std::vector<int> numbers(n);                                            \n",
        "    for (int i = 0; i < n; ++i) {                                           \n",
        "        std::cout << numbers[i];                                             \n",
        "    }\n",
        "\n",
        "    std::cout << \"\\n\";                       \n",
        "    return 0;                                                              \n",
        "}  "
      ],
      "execution_count": null,
      "outputs": [
        {
          "output_type": "stream",
          "name": "stdout",
          "text": [
            "Writing test_init_vectors.cpp\n"
          ]
        }
      ]
    },
    {
      "cell_type": "code",
      "metadata": {
        "colab": {
          "base_uri": "https://localhost:8080/"
        },
        "id": "44gZcuE237-1",
        "outputId": "9c45246a-f46f-4ef7-92e7-79626dcd671e"
      },
      "source": [
        "!g++ test_init_vectors.cpp -o test_init_vectors\n",
        "!./test_init_vectors"
      ],
      "execution_count": null,
      "outputs": [
        {
          "output_type": "stream",
          "name": "stdout",
          "text": [
            "0000000000\n"
          ]
        }
      ]
    },
    {
      "cell_type": "code",
      "metadata": {
        "colab": {
          "base_uri": "https://localhost:8080/"
        },
        "id": "uG6Mv-Pwlkii",
        "outputId": "2ed2c8e3-d60d-4bef-8da1-72a65e06ec26"
      },
      "source": [
        "%%writefile max_pairwise_product_long.cpp\n",
        "#include <iostream>\n",
        "#include <vector>\n",
        "#include <algorithm>\n",
        "\n",
        "long long MaxPairwiseProduct(const std::vector<int>& numbers) {              //N inst exec by line executed \n",
        "    long long max_product = 0LL;                                             //1                                          \n",
        "\t  long long aux_product = 0LL;                                             //1 \n",
        "    int n = numbers.size();                                                  //1 \n",
        "                                                                             \n",
        "    for (int first = 0; first < n; ++first) {                                //1+2n  \n",
        "        for (int second = first + 1; second < n; ++second) {                 //n + (n-1)n \n",
        "\t\t\t       aux_product =  (long long) numbers[first] * numbers[second];    //(n-1)n/2 \n",
        "            if (max_product < aux_product)  {                                //(n-1)n/2 \n",
        "\t\t\t\t        max_product = aux_product;                                   //[0, (n-1)n/2] \n",
        "             }\n",
        "        }\n",
        "    }\n",
        "                                                                             // -------------- \n",
        "    return max_product;                                                      // 4 + 3n + [2(n-1)n, 2.5 (n-1)n] \n",
        "}\n",
        "\n",
        "int main() {                                              //N inst exec by line executed \n",
        "    int n;                                                //1  \n",
        "    std::cin >> n;                                        //1\n",
        "    std::vector<int> numbers(n);                          //n\n",
        "    for (int i = 0; i < n; ++i) {                         //1 + 2n\n",
        "        std::cin >> numbers[i];                           //n\n",
        "    }\n",
        "\n",
        "    std::cout << MaxPairwiseProduct(numbers) << \"\\n\";     //1 + 1  + 4 + 3n + [2(n-1)n, 2.5 (n-1)n]\n",
        "    return 0;                                             // -------------- \n",
        "}                                                         // 9 + 7n + [2(n-1)n, 2.5 (n-1)n]\n"
      ],
      "execution_count": null,
      "outputs": [
        {
          "output_type": "stream",
          "name": "stdout",
          "text": [
            "Overwriting max_pairwise_product_long.cpp\n"
          ]
        }
      ]
    },
    {
      "cell_type": "markdown",
      "metadata": {
        "id": "0vTsUg8OwcHs"
      },
      "source": [
        "Count executed intructions in code and verify with inputs 1, 2 and 3"
      ]
    },
    {
      "cell_type": "code",
      "metadata": {
        "colab": {
          "base_uri": "https://localhost:8080/"
        },
        "id": "CuRKkqQc137V",
        "outputId": "f9facd18-2c98-434a-e46e-dd8941e13692"
      },
      "source": [
        "%%writefile max_pairwise_product_long_execints.cpp\n",
        "#include <iostream>\n",
        "#include <vector>\n",
        "#include <algorithm>\n",
        "\n",
        "long long MaxPairwiseProduct(const std::vector<int>& numbers, long long &execints) {              //N inst exec by line executed \n",
        "    \n",
        "    long long m = 0LL;                                                       //1\n",
        "    \n",
        "    long long max_product = 0LL;                                             //1\n",
        "    execints++;\n",
        "\n",
        "\t  long long aux_product = 0LL;                                             //1\n",
        "    execints++;\n",
        "\n",
        "    int n = numbers.size();                                                  //1 \n",
        "    execints++;\n",
        "\n",
        "    execints++;                                                                         \n",
        "    for (int first = 0; first < n; ++first) {                                //1+2n  \n",
        "        execints += 2;\n",
        "\n",
        "        long long m = 0LL;\n",
        "\n",
        "        execints++;                                    \n",
        "        for (int second = first + 1; second < n; ++second) {                 //n+ (n-1)n \n",
        "            execints += 2;                                                \n",
        "\n",
        "\t\t\t      aux_product =  (long long) numbers[first] * numbers[second];    //(n-1)n/2 \n",
        "            execints++; \n",
        "\n",
        "            execints++; \n",
        "            if ( max_product < aux_product)  {                               //(n-1)n/2 \n",
        "                       \n",
        "\t\t\t\t        max_product = aux_product;                                   //[0, (n-1)n/2] \n",
        "                execints++; \n",
        "                m++;\n",
        "             }\n",
        "        }\n",
        "        if ( (first <= 10) || (n- first <= 10)) std::cout << m << \"\\n\";\n",
        "    }\n",
        "                                                                            // -------------- \n",
        "    return max_product;                                                     // 4 + 3n + [2(n-1)n, 2.5 (n-1)n] \n",
        "}\n",
        "\n",
        "int main() {                                                 //N inst exec by line executed \n",
        "    long long execints =0LL;\n",
        "\n",
        "    int n;                                                   //1\n",
        "    execints++;                                                              \n",
        "    \n",
        "    std::cin >> n;                                           //1\n",
        "    execints++;\n",
        "\n",
        "    std::vector<int> numbers(n);                             //n\n",
        "    execints += n;\n",
        "    \n",
        "    execints++;\n",
        "    for (int i = 0; i < n; ++i) {                            //1 + 2n\n",
        "        execints += 2;\n",
        "\n",
        "        std::cin >> numbers[i];\n",
        "        execints++;                                          //n\n",
        "    }\n",
        "    \n",
        "    //std::cout << MaxPairwiseProduct(numbers) << \"\\n\";      //1 + 1  + 4 + 3n + [2(n-1)n, 2.5 (n-1)n]\n",
        "\n",
        "    execints++;\n",
        "    int M = MaxPairwiseProduct(numbers,execints);\n",
        "\n",
        "    execints++;\n",
        "    std::cout <<  execints << \"\\n\";                       \n",
        "    return 0;                                                // -------------- \n",
        "}                                                            // 9 + 7n + [2(n-1)n, 2.5 (n-1)n]"
      ],
      "execution_count": null,
      "outputs": [
        {
          "output_type": "stream",
          "name": "stdout",
          "text": [
            "Writing max_pairwise_product_long_execints.cpp\n"
          ]
        }
      ]
    },
    {
      "cell_type": "code",
      "metadata": {
        "colab": {
          "base_uri": "https://localhost:8080/"
        },
        "id": "Kuvm1C05ly2a",
        "outputId": "c6a3f723-9c3a-4461-dcb1-78749a4ca8d5"
      },
      "source": [
        "!g++ max_pairwise_product_long_execints.cpp -o max_pairwise_product_long_execints\n",
        "!./max_pairwise_product_long_execints < input1.txt\n",
        "!./max_pairwise_product_long_execints < input2.txt\n",
        "!./max_pairwise_product_long_execints < input3.txt"
      ],
      "execution_count": null,
      "outputs": [
        {
          "output_type": "stream",
          "name": "stdout",
          "text": [
            "9\n",
            "4\n",
            "3\n",
            "3\n",
            "2\n",
            "2\n",
            "2\n",
            "2\n",
            "1\n",
            "0\n",
            "287\n",
            "2\n",
            "1\n",
            "2\n",
            "0\n",
            "0\n",
            "0\n",
            "116\n",
            "199999\n",
            "100000\n",
            "66667\n",
            "50000\n",
            "40000\n",
            "33334\n",
            "28572\n",
            "25000\n",
            "22223\n",
            "20000\n",
            "18182\n",
            "^C\n"
          ]
        }
      ]
    },
    {
      "cell_type": "markdown",
      "metadata": {
        "id": "L_uaamxeAHK7"
      },
      "source": [
        "The number of instructions executed by the algooirithm with a list of size $n$ is  \n",
        "\n",
        "$$T = 9 + 7n + [2(n-1)n, 2.5 (n-1)n]$$\n",
        "\n",
        "It depends on the size of the lists and  the order of the list.\n",
        "\n",
        "For the input1.txt \n",
        "```\n",
        "10\n",
        "1 2 3 4 5 6 7 8 9 10\n",
        "```\n",
        "$$T = 9 + 7(10) + 2(9)(10) +  9 + 5 + 4 + 3 + 2 + 2 + 2 + 2 + 1 + 0  = 289 $$\n",
        "\n",
        "For the input2.txt \n",
        "```\n",
        "6\n",
        "1 3 200000 9 200000 23\n",
        "```\n",
        "$$T = 9 + 7(6) + 2(5)(6)  +  2 + 1 + 2 + 0 + 0 + 0 = 116 $$\n",
        "\n",
        "\n",
        "For the input3.txt that is the worst case (n=200000 and list in incresing order)\n",
        "\n",
        "```\n",
        "200000\n",
        "1 2 3 4 5 6 7 8 9 10 ... 199998 199999 200000\n",
        "```\n",
        "\n",
        "$$\n",
        "\\begin{array}{ll}\n",
        "T &= 9 + 7(200000) + (2)(199999)(200000)  + (199999 +\n",
        "100000 + 66667 +50000 \\cdots 2 + 2 + 1)\\\\\n",
        "&= 80003672077  \\\\\n",
        "  &< 9 + 7(200000) + (2.5)(199999)(200000) \\\\\n",
        "  & = 100000900009\n",
        "\\end{array}\n",
        "  $$"
      ]
    },
    {
      "cell_type": "markdown",
      "metadata": {
        "id": "NXW7QkoBL6xH"
      },
      "source": [
        "Calculate estimated time by instruction and number of instructions by second"
      ]
    },
    {
      "cell_type": "code",
      "metadata": {
        "colab": {
          "base_uri": "https://localhost:8080/"
        },
        "id": "pKqB3i7dIxnc",
        "outputId": "87ac83d4-c722-4014-b44f-631ba47b7097"
      },
      "source": [
        "# Estimated time by instruction\n",
        "\n",
        "128/80003672077 \n"
      ],
      "execution_count": null,
      "outputs": [
        {
          "output_type": "execute_result",
          "data": {
            "text/plain": [
              "1.5999265618308827e-09"
            ]
          },
          "metadata": {},
          "execution_count": 38
        }
      ]
    },
    {
      "cell_type": "code",
      "metadata": {
        "colab": {
          "base_uri": "https://localhost:8080/"
        },
        "id": "18N1ouqeMhE1",
        "outputId": "a71999a1-65cb-4afc-afbb-f57d9c02834e"
      },
      "source": [
        "# Estimated number of instructions by second\n",
        "\n",
        "1/(128/80003672077) "
      ],
      "execution_count": null,
      "outputs": [
        {
          "output_type": "execute_result",
          "data": {
            "text/plain": [
              "625028688.1015625"
            ]
          },
          "metadata": {},
          "execution_count": 39
        }
      ]
    },
    {
      "cell_type": "markdown",
      "metadata": {
        "id": "CQufozXLNJwO"
      },
      "source": [
        "### Efficient solution"
      ]
    },
    {
      "cell_type": "markdown",
      "metadata": {
        "id": "nLcKBwbU0QsE"
      },
      "source": [
        "Add in each line a coment with the number of intstrcution that are executed in that line"
      ]
    },
    {
      "cell_type": "code",
      "metadata": {
        "id": "knls5Fh3NSt_",
        "colab": {
          "base_uri": "https://localhost:8080/"
        },
        "outputId": "8c7b7a2d-2b8f-43e2-da42-cb4ab564da5c"
      },
      "source": [
        "%%writefile efficient_solution.cpp\n",
        "#include <iostream>\n",
        "#include <vector>\n",
        "#include <algorithm>\n",
        "using namespace std;\n",
        "\n",
        "int main() {          //N inst exec by line executed\n",
        "    int m;            //1\n",
        "    cin >> m;         //1\n",
        "    vector<int> numbers(m);         //1\n",
        "    for (int i = 0; i < m; ++i) {         //1+2n\n",
        "        cin >> numbers[i];          //1\n",
        "    }\n",
        "\n",
        "    int n = numbers.size();         //1\n",
        "    int max_index1 = -1;          //1\n",
        "    for (int i = 0; i < n; ++i) {         //1+2n\n",
        "        if ((max_index1 == -1) || (numbers[i] > numbers[max_index1])) {         //1\n",
        "            max_index1 = i;         //1\n",
        "        }\n",
        "    }\n",
        "    int max_index2 = -1;          //1\n",
        "    for (int j = 0; j < n; ++j) {         //1+2n\n",
        "        if ((j != max_index1) && ((max_index2 == -1) || (numbers[j] > numbers[max_index2]))) {          //1\n",
        "            max_index2 = j;         //1\n",
        "        }\n",
        "    }\n",
        "    long long result = ((long long)(numbers[max_index1])) * numbers[max_index2];         //1\n",
        "    cout << result << endl;         //1\n",
        "    return 0;         //1\n",
        "}         // 1+1+1+(1+2n)+n+1+1+(1+2n)+(1+1)n+1+(1+2n)+(1+1)(n-1) = 11n+7"
      ],
      "execution_count": null,
      "outputs": [
        {
          "output_type": "stream",
          "name": "stdout",
          "text": [
            "Overwriting efficient_solution.cpp\n"
          ]
        }
      ]
    },
    {
      "cell_type": "markdown",
      "metadata": {
        "id": "-JCijbWxNSii"
      },
      "source": [
        "Test with inputs 1 and 2\n",
        "\n"
      ]
    },
    {
      "cell_type": "code",
      "metadata": {
        "id": "TrTGAfqlNVXT",
        "colab": {
          "base_uri": "https://localhost:8080/"
        },
        "outputId": "6b95ee93-3713-4734-fa23-caf5e681fc06"
      },
      "source": [
        "!g++ efficient_solution.cpp -o efficient_solution\n",
        "!./efficient_solution < input1.txt\n",
        "print(\"Executed instructions: \", str(11*10+7))\n",
        "!./efficient_solution < input2.txt\n",
        "print(\"Executed instructions: \", str(11*6+7))"
      ],
      "execution_count": null,
      "outputs": [
        {
          "output_type": "stream",
          "name": "stdout",
          "text": [
            "110\n",
            "Executed instructions:  117\n",
            "40000000000\n",
            "Executed instructions:  73\n"
          ]
        }
      ]
    },
    {
      "cell_type": "markdown",
      "metadata": {
        "id": "PRX51wADNR8b"
      },
      "source": [
        "Test and time it with input 3"
      ]
    },
    {
      "cell_type": "code",
      "metadata": {
        "id": "v4z7-Is_NRt7",
        "colab": {
          "base_uri": "https://localhost:8080/"
        },
        "outputId": "9169ce2e-b33c-41ce-9100-a625f2d7b0ac"
      },
      "source": [
        "!time ./efficient_solution < input3.txt\n",
        "print(\"Executed instructions: \", str(11*20+7))"
      ],
      "execution_count": null,
      "outputs": [
        {
          "output_type": "stream",
          "name": "stdout",
          "text": [
            "39999800000\n",
            "\n",
            "real\t0m0.054s\n",
            "user\t0m0.050s\n",
            "sys\t0m0.002s\n",
            "Executed instructions:  227\n"
          ]
        }
      ]
    },
    {
      "cell_type": "markdown",
      "metadata": {
        "id": "rpdfs0_TNZJf"
      },
      "source": [
        "20 stress tests"
      ]
    },
    {
      "cell_type": "code",
      "metadata": {
        "id": "Lu4tYcKzNcTT",
        "colab": {
          "base_uri": "https://localhost:8080/"
        },
        "outputId": "2479c09b-0177-4c01-a7af-76059d6a36b9"
      },
      "source": [
        "%%writefile efficient_solution_stress.cpp\n",
        "#include <iostream>\n",
        "#include <vector>\n",
        "#include <cstdlib>\n",
        "#include <ctime>\n",
        "#include <algorithm>\n",
        "using namespace std;\n",
        "\n",
        "int main() {          //N inst exec by line executed\n",
        "    srand(time(NULL));\n",
        "    long long ins = 1;\n",
        "    for (int i = 0; i < 20; ++i) {\n",
        "        ins+=2;      \n",
        "        int n = rand() % 19+4;    \n",
        "        ins++;\n",
        "        vector<int> numbers(n);    \n",
        "        ins+=n; \n",
        "        for (int j = 0; j < n; ++j) {    \n",
        "            ins+=2;\n",
        "            numbers[j] = rand() % 1000;  \n",
        "            ins++;\n",
        "        }\n",
        "\n",
        "        int index = 1;\n",
        "        ins++;\n",
        "        for(int j = 2; j < n; j++){\n",
        "            ins+=2;\n",
        "            ins++;\n",
        "            if(numbers[j] > numbers[index]){\n",
        "                index = j;\n",
        "                ins++;\n",
        "            }\n",
        "            int temp = numbers[index];\n",
        "            ins++;\n",
        "            numbers[index] = numbers[n - 1];\n",
        "            ins++;\n",
        "            numbers[n - 1] = temp;\n",
        "            ins++;\n",
        "        }\n",
        "        for(int j = 2; j < n - 1; j++){\n",
        "            ins+=2;\n",
        "            ins++;\n",
        "            if(numbers[j] > numbers[index]){\n",
        "                index = j;\n",
        "                ins++;\n",
        "            }\n",
        "            int temp = numbers[index];\n",
        "            ins++;\n",
        "            numbers[index] = numbers[n - 2];\n",
        "            ins++;\n",
        "            numbers[n - 2] = temp;\n",
        "            ins++;\n",
        "        }\n",
        "        long long ans = (long long)numbers[n-1] * numbers[n-2];\n",
        "        ins++;\n",
        "        for(int j = 0; j < n; j++){\n",
        "            ins+=2;\n",
        "            cout << numbers[j] << \" \";\n",
        "            ins++;\n",
        "        }\n",
        "        cout << \": MaxPairwiseProduct = \" << ans << \"\\n\";\n",
        "        ins++;\n",
        "    }\n",
        "    cout << \"\\nEXECUTED INSTRUCTIONS: \" << ins << endl;\n",
        "    return 0;\n",
        "}"
      ],
      "execution_count": null,
      "outputs": [
        {
          "output_type": "stream",
          "name": "stdout",
          "text": [
            "Writing efficient_solution_stress.cpp\n"
          ]
        }
      ]
    },
    {
      "cell_type": "markdown",
      "metadata": {
        "id": "L8U4151JNbxk"
      },
      "source": [
        "Count executed instructions in code and verify with inputs 1,2 and 3\n"
      ]
    },
    {
      "cell_type": "code",
      "metadata": {
        "id": "dh85RM8vNhFz",
        "colab": {
          "base_uri": "https://localhost:8080/"
        },
        "outputId": "7e064a0c-57b6-443c-cf6e-3bf9bfd5d0c7"
      },
      "source": [
        "!g++ efficient_solution_stress.cpp -o efficient_solution_stress\n",
        "!./efficient_solution_stress"
      ],
      "execution_count": null,
      "outputs": [
        {
          "output_type": "stream",
          "name": "stdout",
          "text": [
            "649 232 385 265 909 556 994 731 : MaxPairwiseProduct = 726614\n",
            "303 227 395 182 380 74 667 615 584 746 413 782 64 78 539 332 173 146 827 873 : MaxPairwiseProduct = 721971\n",
            "744 198 197 381 738 106 646 730 812 641 33 70 36 568 817 110 587 784 46 843 998 : MaxPairwiseProduct = 841314\n",
            "877 628 568 209 456 720 735 188 478 479 866 27 570 919 921 134 : MaxPairwiseProduct = 123414\n",
            "329 226 387 561 598 307 569 60 400 705 459 894 706 288 583 532 360 145 903 340 : MaxPairwiseProduct = 307020\n",
            "880 56 63 153 424 633 436 : MaxPairwiseProduct = 275988\n",
            "554 426 899 115 165 651 65 472 572 478 366 278 417 424 533 577 360 937 937 : MaxPairwiseProduct = 877969\n",
            "757 515 692 737 923 800 142 359 786 567 929 989 : MaxPairwiseProduct = 918781\n",
            "181 807 862 184 : MaxPairwiseProduct = 158608\n",
            "334 757 703 52 35 640 931 920 217 188 338 506 693 447 21 782 437 828 935 944 : MaxPairwiseProduct = 882640\n",
            "73 149 585 850 547 118 765 409 924 303 : MaxPairwiseProduct = 279972\n",
            "412 562 147 799 844 328 719 61 516 57 852 567 : MaxPairwiseProduct = 483084\n",
            "940 696 294 237 631 225 832 56 428 478 173 893 599 98 385 604 949 975 : MaxPairwiseProduct = 925275\n",
            "804 332 62 648 534 660 815 : MaxPairwiseProduct = 537900\n",
            "944 787 738 449 922 435 743 159 418 968 52 475 748 882 648 724 183 98 981 461 : MaxPairwiseProduct = 452241\n",
            "293 155 468 502 625 150 285 602 564 462 801 546 552 857 970 : MaxPairwiseProduct = 831290\n",
            "345 442 110 665 383 937 414 617 937 138 801 36 599 418 86 892 96 940 870 940 979 : MaxPairwiseProduct = 920260\n",
            "627 7 297 550 553 522 382 373 213 727 704 323 393 87 260 159 56 780 969 : MaxPairwiseProduct = 755820\n",
            "586 248 150 24 362 492 964 598 : MaxPairwiseProduct = 576472\n",
            "758 518 215 776 839 186 670 713 511 43 927 238 747 602 765 983 996 : MaxPairwiseProduct = 979068\n",
            "\n",
            "EXECUTED INSTRUCTIONS: 5207\n"
          ]
        }
      ]
    },
    {
      "cell_type": "markdown",
      "metadata": {
        "id": "K6ybgCmpNygr"
      },
      "source": [
        "Calculate estimated time by instruction and number of instructions by second"
      ]
    },
    {
      "cell_type": "code",
      "metadata": {
        "id": "kwe3G1O3Nz1w",
        "colab": {
          "base_uri": "https://localhost:8080/"
        },
        "outputId": "8435f3c5-02e8-406f-da18-176c653c4e2d"
      },
      "source": [
        "time_by_instruction = 0.38/2956223\n",
        "print(time_by_instruction)\n",
        "instructions_by_second = 1/time_by_instruction\n",
        "print(instructions_by_second)"
      ],
      "execution_count": null,
      "outputs": [
        {
          "output_type": "stream",
          "name": "stdout",
          "text": [
            "1.2854240021811615e-07\n",
            "7779534.2105263155\n"
          ]
        }
      ]
    },
    {
      "cell_type": "markdown",
      "metadata": {
        "id": "sc9nOLQrfTm0"
      },
      "source": [
        "### Super efficient solution\n",
        "\n",
        "Whitout storing the list in memory and whitout calling a function, add in each line a coment with the number of intstrcution that are executed in that line "
      ]
    },
    {
      "cell_type": "code",
      "metadata": {
        "id": "hBLt_xBQLy8E",
        "colab": {
          "base_uri": "https://localhost:8080/"
        },
        "outputId": "e3936d7c-068b-40ca-9cdc-7437b50cf193"
      },
      "source": [
        "%%writefile super_efficient_solution.cpp\n",
        "#include <iostream>\n",
        "#include <ostream>\n",
        "using namespace std;\n",
        "\n",
        "int main() {\n",
        "    int n;        //1\n",
        "    std::cin >> n;        //1\n",
        "    int max1 = 0, max2 = 0;         //2\n",
        "    for (int i = 0; i < n; ++i) {         //n+1\n",
        "        int x;        //1\n",
        "        std::cin >> x;        //1\n",
        "        if (x > max1) {        //1\n",
        "            max2 = max1;        //1\n",
        "            max1 = x;        //1\n",
        "        } else if (x > max2) {        //1\n",
        "            max2 = x;        //1\n",
        "        }\n",
        "    }\n",
        "    std::cout << (long long) max1 * max2 << std::endl;        //2\n",
        "    return 0;        //1\n",
        "}        //1+1+2+(n+1)+(1+1+1+1+1)n+2+1 = 6n+8"
      ],
      "execution_count": null,
      "outputs": [
        {
          "output_type": "stream",
          "name": "stdout",
          "text": [
            "Overwriting super_efficient_solution.cpp\n"
          ]
        }
      ]
    },
    {
      "cell_type": "markdown",
      "metadata": {
        "id": "683gc3roHqzb"
      },
      "source": [
        "Test with inputs 1 and 2\n",
        "\n",
        "\n",
        " "
      ]
    },
    {
      "cell_type": "code",
      "metadata": {
        "id": "b7d4LA8OIc2_",
        "colab": {
          "base_uri": "https://localhost:8080/"
        },
        "outputId": "1793c3c3-933d-4ab7-87c6-7f662d411bb0"
      },
      "source": [
        "!g++ super_efficient_solution.cpp -o super_efficient_solution\n",
        "!./super_efficient_solution < input1.txt\n",
        "print(\"Executed instructions: \", str(6*10+8))\n",
        "!./super_efficient_solution < input2.txt\n",
        "print(\"Executed instructions: \", str(6*6+8))"
      ],
      "execution_count": null,
      "outputs": [
        {
          "output_type": "stream",
          "name": "stdout",
          "text": [
            "110\n",
            "Executed instructions:  68\n",
            "40000000000\n",
            "Executed instructions:  44\n"
          ]
        }
      ]
    },
    {
      "cell_type": "markdown",
      "metadata": {
        "id": "36Ugn1odIeJz"
      },
      "source": [
        "Test and time it with input 3"
      ]
    },
    {
      "cell_type": "code",
      "metadata": {
        "id": "jDyMbCnxHqSN",
        "colab": {
          "base_uri": "https://localhost:8080/"
        },
        "outputId": "ae0dd2a1-b0ee-4c3a-c53f-0ea568a351fc"
      },
      "source": [
        "!time ./super_efficient_solution < input3.txt\n",
        "print(\"Executed instructions: \", str(6*20+8))"
      ],
      "execution_count": null,
      "outputs": [
        {
          "output_type": "stream",
          "name": "stdout",
          "text": [
            "39999800000\n",
            "\n",
            "real\t0m0.050s\n",
            "user\t0m0.048s\n",
            "sys\t0m0.002s\n",
            "Executed instructions:  128\n"
          ]
        }
      ]
    },
    {
      "cell_type": "markdown",
      "metadata": {
        "id": "bhqiKQG6fjKM"
      },
      "source": [
        "20 stress tests "
      ]
    },
    {
      "cell_type": "code",
      "metadata": {
        "id": "2KsiXKhALzwm",
        "colab": {
          "base_uri": "https://localhost:8080/"
        },
        "outputId": "bf7f77c9-acdc-46b0-fde1-9179e38c20ef"
      },
      "source": [
        "%%writefile super_efficient_solution_stress_test.cpp\n",
        "#include <iostream>\n",
        "#include <vector>\n",
        "#include <cstdlib>\n",
        "#include <ctime>\n",
        "#include <algorithm>\n",
        "using namespace std;\n",
        "\n",
        "int main () {          //N inst exec by line executed\n",
        "    srand(time(NULL));\n",
        "    long long ins = 1;\n",
        "    for (int i = 0; i < 20; ++i) {\n",
        "        ins+=2;\n",
        "        int n = rand() % 19+4;\n",
        "        ins++;\n",
        "        vector<int> numbers(n);\n",
        "        ins+=n;\n",
        "        for (int j = 0; j < n; ++j) {\n",
        "            ins+=2;\n",
        "            numbers[j] = rand() % 1000;\n",
        "            ins++;\n",
        "        }        \n",
        "\n",
        "        int index = 1;\n",
        "        ins++;\n",
        "        for(int j = 2; j < n; j++){\n",
        "            ins+=2;\n",
        "            ins++;\n",
        "            if(numbers[j] > numbers[index]){\n",
        "                index = j;\n",
        "                ins++;\n",
        "            }\n",
        "            int temp = numbers[index];\n",
        "            ins++;\n",
        "            numbers[index] = numbers[n - 1];\n",
        "            ins++;\n",
        "            numbers[n - 1] = temp;\n",
        "            ins++;\n",
        "        }\n",
        "        for(int j = 2; j < n - 1; j++){\n",
        "            ins+=2;\n",
        "            ins++;\n",
        "            if(numbers[j] > numbers[index]){\n",
        "                index = j;\n",
        "                ins++;\n",
        "            }\n",
        "            int temp = numbers[index];\n",
        "            ins++;\n",
        "            numbers[index] = numbers[n - 2];\n",
        "            ins++;\n",
        "            numbers[n - 2] = temp;\n",
        "            ins++;\n",
        "        }\n",
        "        long long ans = (long long)numbers[n-1] * numbers[n-2];\n",
        "        ins++;\n",
        "        for(int j = 0; j < n; j++){\n",
        "            ins+=2;\n",
        "            cout << numbers[j] << \" \";\n",
        "            ins++;\n",
        "        }\n",
        "        cout << \": MaxPairwiseProduct = \" << ans << \"\\n\";\n",
        "        ins++;\n",
        "    }\n",
        "    cout << \"\\nEXECUTED INSTRUCTIONS: \" << ins << endl;\n",
        "    return 0;\n",
        "}"
      ],
      "execution_count": null,
      "outputs": [
        {
          "output_type": "stream",
          "name": "stdout",
          "text": [
            "Overwriting super_efficient_solution_stress_test.cpp\n"
          ]
        }
      ]
    },
    {
      "cell_type": "markdown",
      "metadata": {
        "id": "fEXj8GHJH5p1"
      },
      "source": [
        "Count executed instructions in code and verify with inputs 1,2 and 3"
      ]
    },
    {
      "cell_type": "code",
      "metadata": {
        "id": "LF1DHjKXIAsF",
        "colab": {
          "base_uri": "https://localhost:8080/"
        },
        "outputId": "d5ee863d-9d41-4559-ca4b-63f1cf123bff"
      },
      "source": [
        "!g++ super_efficient_solution_stress_test.cpp -o super_efficient_solution_stress_test\n",
        "!./super_efficient_solution_stress_test"
      ],
      "execution_count": null,
      "outputs": [
        {
          "output_type": "stream",
          "name": "stdout",
          "text": [
            "301 227 283 588 715 : MaxPairwiseProduct = 420420\n",
            "329 280 538 916 : MaxPairwiseProduct = 492808\n",
            "616 306 481 362 416 331 456 194 205 546 624 817 923 : MaxPairwiseProduct = 754091\n",
            "469 113 131 343 355 593 9 359 533 644 586 498 477 644 973 : MaxPairwiseProduct = 626612\n",
            "825 99 369 548 539 725 222 823 916 : MaxPairwiseProduct = 753868\n",
            "623 17 196 457 993 910 : MaxPairwiseProduct = 903630\n",
            "254 725 214 199 378 574 734 732 : MaxPairwiseProduct = 537288\n",
            "582 352 341 713 593 812 167 : MaxPairwiseProduct = 135604\n",
            "58 81 609 281 158 334 413 781 964 327 : MaxPairwiseProduct = 315228\n",
            "590 372 161 844 703 375 395 789 301 127 168 166 61 872 507 775 817 674 939 959 978 85 : MaxPairwiseProduct = 83130\n",
            "366 530 609 131 362 289 92 254 231 70 415 664 126 143 427 822 444 301 435 915 610 : MaxPairwiseProduct = 558150\n",
            "118 74 477 144 429 489 436 153 63 581 36 25 430 700 593 522 306 666 897 947 : MaxPairwiseProduct = 849459\n",
            "719 661 146 986 217 : MaxPairwiseProduct = 213962\n",
            "422 624 809 433 742 651 787 238 80 698 820 585 762 119 910 621 : MaxPairwiseProduct = 565110\n",
            "673 849 72 453 702 17 54 26 88 623 524 75 284 980 971 : MaxPairwiseProduct = 951580\n",
            "132 2 282 783 : MaxPairwiseProduct = 220806\n",
            "593 215 153 243 357 413 : MaxPairwiseProduct = 147441\n",
            "774 144 677 786 800 538 132 651 228 859 949 : MaxPairwiseProduct = 815191\n",
            "161 201 392 445 524 593 653 9 227 60 144 706 712 772 : MaxPairwiseProduct = 549664\n",
            "418 171 725 865 655 791 441 870 991 : MaxPairwiseProduct = 862170\n",
            "\n",
            "EXECUTED INSTRUCTIONS: 3793\n"
          ]
        }
      ]
    },
    {
      "cell_type": "markdown",
      "metadata": {
        "id": "yae7sSm2IG9U"
      },
      "source": [
        "Calculate estimated time by instruction and number of instructions by second"
      ]
    },
    {
      "cell_type": "code",
      "metadata": {
        "id": "suouY7BYL2dz",
        "colab": {
          "base_uri": "https://localhost:8080/"
        },
        "outputId": "6b417b68-fe90-43cf-9b90-3a58ba322f1e"
      },
      "source": [
        "time_by_instruction = 0.37/2000008\n",
        "print(time_by_instruction)\n",
        "instructions_by_second = 1/time_by_instruction\n",
        "print(instructions_by_second)"
      ],
      "execution_count": null,
      "outputs": [
        {
          "output_type": "stream",
          "name": "stdout",
          "text": [
            "1.8499926000295997e-07\n",
            "5405427.027027028\n"
          ]
        }
      ]
    },
    {
      "cell_type": "markdown",
      "metadata": {
        "id": "LkVxxlhl9H98"
      },
      "source": [
        "# Codeforces problem https://codeforces.com/contest/1619/problem/A \n",
        "\n",
        "Solve the problem in Colab, submit the solution to Codeforces and add a screenshoot of the submission."
      ]
    },
    {
      "cell_type": "code",
      "source": [
        "%%writefile codeforcesProblem.cpp\n",
        "#include <iostream>\n",
        "#include <ostream>\n",
        "\n",
        "using namespace std;\n",
        "\n",
        "bool checkSquareWord(string &s)\n",
        "{\n",
        "    int length = s.length();\n",
        "    int halfLength = length / 2;\n",
        "    if (length % 2 == 1)\n",
        "    {\n",
        "        return false;\n",
        "    }\n",
        "    for (int i = 0; i < halfLength; i++)\n",
        "    {\n",
        "        if (s[i] != s[i + halfLength])\n",
        "        {\n",
        "            return false;\n",
        "        }\n",
        "    }\n",
        "    return true;\n",
        "}\n",
        "\n",
        "int main()\n",
        "{\n",
        "    int n = 0;\n",
        "    cin >> n;\n",
        "\n",
        "    for (int i = 0; i < n; ++i)\n",
        "    {\n",
        "        string s;\n",
        "        cin >> s;\n",
        "        if (checkSquareWord(s))\n",
        "        {\n",
        "            cout << \"YES\" << endl;\n",
        "        }\n",
        "        else\n",
        "        {\n",
        "            cout << \"NO\" << endl;\n",
        "        }\n",
        "    }\n",
        "\n",
        "    return 0;\n",
        "}"
      ],
      "metadata": {
        "colab": {
          "base_uri": "https://localhost:8080/"
        },
        "id": "BT5UDGQ_dc12",
        "outputId": "45c6cecd-43d8-41d6-93f0-1a5409a82f8d"
      },
      "execution_count": null,
      "outputs": [
        {
          "output_type": "stream",
          "name": "stdout",
          "text": [
            "Writing codeforcesProblem.cpp\n"
          ]
        }
      ]
    },
    {
      "cell_type": "code",
      "source": [
        "%%writefile inputCodeforces.txt\n",
        "10\n",
        "a\n",
        "aa\n",
        "aaa\n",
        "aaaa\n",
        "abab\n",
        "abcabc\n",
        "abacaba\n",
        "xxyy\n",
        "xyyx\n",
        "xyxy"
      ],
      "metadata": {
        "colab": {
          "base_uri": "https://localhost:8080/"
        },
        "id": "hh_VqDvZde1D",
        "outputId": "36e5168f-7990-4f18-8e83-cd112ec557d8"
      },
      "execution_count": null,
      "outputs": [
        {
          "output_type": "stream",
          "name": "stdout",
          "text": [
            "Writing inputCodeforces.txt\n"
          ]
        }
      ]
    },
    {
      "cell_type": "code",
      "source": [
        "!g++ codeforcesProblem.cpp -o codeforcesProblem\n",
        "!./codeforcesProblem < inputCodeforces.txt"
      ],
      "metadata": {
        "colab": {
          "base_uri": "https://localhost:8080/"
        },
        "id": "eOMGD4drdiL6",
        "outputId": "47da6a76-5302-4595-c227-dd01d1793772"
      },
      "execution_count": null,
      "outputs": [
        {
          "output_type": "stream",
          "name": "stdout",
          "text": [
            "NO\n",
            "YES\n",
            "NO\n",
            "YES\n",
            "YES\n",
            "YES\n",
            "NO\n",
            "NO\n",
            "NO\n",
            "YES\n"
          ]
        }
      ]
    },
    {
      "cell_type": "markdown",
      "source": [
        "![image.png](data:image/png;base64,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)"
      ],
      "metadata": {
        "id": "ZLaumbs1gFrG"
      }
    }
  ]
}