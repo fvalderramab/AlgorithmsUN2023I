{
  "nbformat": 4,
  "nbformat_minor": 0,
  "metadata": {
    "colab": {
      "provenance": [],
      "authorship_tag": "ABX9TyNwhWFpB62stYLwPuEGkUIl",
      "include_colab_link": true
    },
    "kernelspec": {
      "name": "python3",
      "display_name": "Python 3"
    },
    "language_info": {
      "name": "python"
    }
  },
  "cells": [
    {
      "cell_type": "markdown",
      "metadata": {
        "id": "view-in-github",
        "colab_type": "text"
      },
      "source": [
        "<a href=\"https://colab.research.google.com/github/fvalderramab/AlgorithmsUN2023I/blob/main/Lab3/fvalderramabcognitiveclassaapplieddatasciencewithpython.ipynb\" target=\"_parent\"><img src=\"https://colab.research.google.com/assets/colab-badge.svg\" alt=\"Open In Colab\"/></a>"
      ]
    },
    {
      "cell_type": "markdown",
      "source": [
        "Links al LinkedIn:\n",
        "\n",
        "https://www.linkedin.com/posts/felipe-santiago-valderrama-ballesteros-ab4a33268_cognitive-class-python-for-data-science-activity-7038510034426707968-byTO?utm_source=share&utm_medium=member_desktop \n",
        "\n",
        "https://www.linkedin.com/posts/felipe-santiago-valderrama-ballesteros-ab4a33268_cognitive-class-data-analysis-with-python-activity-7038510179201495041-QIsk?utm_source=share&utm_medium=member_desktop\n",
        "\n",
        "https://www.linkedin.com/posts/felipe-santiago-valderrama-ballesteros-ab4a33268_cognitive-class-data-visualization-with-activity-7038510321849753600-A_yH?utm_source=share&utm_medium=member_desktop"
      ],
      "metadata": {
        "id": "gljS8sTwQXPW"
      }
    }
  ]
}